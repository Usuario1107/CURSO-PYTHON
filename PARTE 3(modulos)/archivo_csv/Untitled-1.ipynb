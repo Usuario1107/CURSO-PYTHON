{
 "cells": [
  {
   "cell_type": "code",
   "execution_count": 6,
   "id": "99bd369d",
   "metadata": {},
   "outputs": [
    {
     "data": {
      "text/html": [
       "<div>\n",
       "<style scoped>\n",
       "    .dataframe tbody tr th:only-of-type {\n",
       "        vertical-align: middle;\n",
       "    }\n",
       "\n",
       "    .dataframe tbody tr th {\n",
       "        vertical-align: top;\n",
       "    }\n",
       "\n",
       "    .dataframe thead th {\n",
       "        text-align: right;\n",
       "    }\n",
       "</style>\n",
       "<table border=\"1\" class=\"dataframe\">\n",
       "  <thead>\n",
       "    <tr style=\"text-align: right;\">\n",
       "      <th></th>\n",
       "      <th>Fecha</th>\n",
       "      <th>Hora</th>\n",
       "      <th>Sensor_Temperatura</th>\n",
       "      <th>Sensor_Humedad</th>\n",
       "      <th>Estado_Bomba</th>\n",
       "    </tr>\n",
       "  </thead>\n",
       "  <tbody>\n",
       "    <tr>\n",
       "      <th>0</th>\n",
       "      <td>26/08/2025</td>\n",
       "      <td>06:00</td>\n",
       "      <td>22.5</td>\n",
       "      <td>45</td>\n",
       "      <td>OFF</td>\n",
       "    </tr>\n",
       "    <tr>\n",
       "      <th>1</th>\n",
       "      <td>26/08/2025</td>\n",
       "      <td>12:00</td>\n",
       "      <td>30.1</td>\n",
       "      <td>28</td>\n",
       "      <td>ON</td>\n",
       "    </tr>\n",
       "    <tr>\n",
       "      <th>2</th>\n",
       "      <td>26/08/2025</td>\n",
       "      <td>18:00</td>\n",
       "      <td>25.3</td>\n",
       "      <td>35</td>\n",
       "      <td>ON</td>\n",
       "    </tr>\n",
       "    <tr>\n",
       "      <th>3</th>\n",
       "      <td>26/08/2025</td>\n",
       "      <td>00:00</td>\n",
       "      <td>20.0</td>\n",
       "      <td>50</td>\n",
       "      <td>ON</td>\n",
       "    </tr>\n",
       "  </tbody>\n",
       "</table>\n",
       "</div>"
      ],
      "text/plain": [
       "        Fecha   Hora  Sensor_Temperatura  Sensor_Humedad Estado_Bomba\n",
       "0  26/08/2025  06:00                22.5              45          OFF\n",
       "1  26/08/2025  12:00                30.1              28           ON\n",
       "2  26/08/2025  18:00                25.3              35           ON\n",
       "3  26/08/2025  00:00                20.0              50           ON"
      ]
     },
     "execution_count": 6,
     "metadata": {},
     "output_type": "execute_result"
    }
   ],
   "source": [
    "import pandas as pd\n",
    "archivo = pd.read_csv(\"\\\\CURSO DE PYTHON\\\\PARTE 3(modulos)\\\\archivo_csv\\\\archivo.csv\")\n",
    "archivo"
   ]
  }
 ],
 "metadata": {
  "kernelspec": {
   "display_name": "Python 3",
   "language": "python",
   "name": "python3"
  },
  "language_info": {
   "codemirror_mode": {
    "name": "ipython",
    "version": 3
   },
   "file_extension": ".py",
   "mimetype": "text/x-python",
   "name": "python",
   "nbconvert_exporter": "python",
   "pygments_lexer": "ipython3",
   "version": "3.13.2"
  }
 },
 "nbformat": 4,
 "nbformat_minor": 5
}
